{
 "cells": [
  {
   "cell_type": "code",
   "execution_count": 576,
   "id": "58860297",
   "metadata": {},
   "outputs": [],
   "source": [
    "import numpy as np\n",
    "import random\n",
    "import math\n",
    "import pandas as pd\n",
    "import seaborn as sns\n",
    "import matplotlib.pyplot as plt"
   ]
  },
  {
   "cell_type": "code",
   "execution_count": 641,
   "id": "4f507c89",
   "metadata": {},
   "outputs": [],
   "source": [
    "class WrightFisher():\n",
    "    \"\"\"\n",
    "    Haploid Wright-Fisher model\n",
    "    \n",
    "    Parameters:\n",
    "    N: population size\n",
    "    \"\"\"\n",
    "    def __init__(self, N):\n",
    "        self.N = N\n",
    "        \n",
    "    def simulate(self, allele_count, max_generations):\n",
    "        # Create array of population alleles per generation\n",
    "        population_alleles = np.full(max_generations + 1, None)\n",
    "        # Set allele counts for initial generation\n",
    "        population_alleles[0] = allele_count\n",
    "        \n",
    "        # Initialise counters\n",
    "        gen = 0\n",
    "        max_allele_counts = allele_count\n",
    "        \n",
    "        # Repeat for n generations\n",
    "        while gen < max_generations:\n",
    "            gen += 1\n",
    "            # Simulate number of copies in next generation\n",
    "            population_alleles[gen] = np.random.binomial(n = self.N,\n",
    "                                                         p = population_alleles[gen - 1] / self.N)\n",
    "        \n",
    "        return population_alleles\n",
    "    \n",
    "    # Plot distribution of maximum allele count\n",
    "    def plotMaxAllele(self, max_allele_counts):\n",
    "        plt.figure(figsize = (10, 5))\n",
    "        max_allele_hist = plt.hist(max_allele_counts,\n",
    "                                   color = \"orange\",\n",
    "                                   edgecolor = \"black\", \n",
    "                                   linewidth = 1.2,\n",
    "                                   bins = min(max(max_allele_counts), 100))\n",
    "        plt.xlabel(\"Max Allele Size\") \n",
    "        plt.ylabel(\"Count\") \n",
    "        plt.title(\"Distribution of Maximum Allele Number Reached\")\n",
    "        plt.show()\n",
    "        \n",
    "    # Plot distribution of time for simulations where the variant fixes\n",
    "    def plotTime(self, times, fixed = True):\n",
    "        plt.figure(figsize = (10, 5))\n",
    "        max_allele_hist = plt.hist(max_allele_counts,\n",
    "                                   color = \"orange\",\n",
    "                                   edgecolor = \"black\", \n",
    "                                   linewidth = 1.2,\n",
    "                                   bins = min(max(max_allele_counts), 100))\n",
    "        plt.xlabel(\"Max Allele Size\") \n",
    "        plt.ylabel(\"Count\") \n",
    "        plt.title(\"Distribution of Maximum Allele Number Reached\")\n",
    "        plt.show()\n",
    "    \n",
    "    # Plot density heatmap of allele counts over time\n",
    "    def plotPathDensity(self, path_density, title = \"Path Density\", \n",
    "                        fontsize = 12, cmap = \"viridis\"):\n",
    "        # Plot density heatmap of allele counts over time\n",
    "        density_map = sns.heatmap(np.log(path_density + 1), cmap = cmap)\n",
    "        density_map.set_xlabel(\"Time\", fontsize = fontsize)\n",
    "        density_map.set_ylabel(\"Allele Count\", fontsize = fontsize)\n",
    "        density_map.set_title(title, fontsize = fontsize + 2)\n",
    "        density_map.figure.set_size_inches(10, 10)\n",
    "        density_map.collections[0].colorbar.set_label(\"Log(Density + 1)\",\n",
    "                                                      fontsize = fontsize)\n",
    "        density_map.set(xlim = (1, path_density.shape[1]))\n",
    "    \n",
    "    def repeatSimulate(self, allele_count, max_generations = 500, n_times = 1000):\n",
    "        # The highest numbers the allele reaches per simulation\n",
    "        max_allele_counts = np.zeros(n_times, dtype = int)\n",
    "        # The times taken for the allele to fix or be lost\n",
    "        end_times = np.zeros(n_times, dtype = int)\n",
    "        # Density of allele counts over time for n simulations\n",
    "        path_density = np.zeros((self.N + 1, max_generations), dtype = int)\n",
    "        \n",
    "        # Total time for simulations that fix and loose the allele\n",
    "        all_fixation_times = np.array([])\n",
    "        all_loss_times = np.array([])\n",
    "        # Average time for simulations that fix and loose the allele\n",
    "        mean_fixation_time = None\n",
    "        mean_loss_time = None\n",
    "        \n",
    "        # Run the simulation n times\n",
    "        for i in range(n_times):\n",
    "            # Run Wright-Fisher model\n",
    "            population_alleles = self.simulate(allele_count, max_generations)\n",
    "            # Get the maximum allele count and simulation end time\n",
    "            max_allele_counts[i] = max(population_alleles)\n",
    "            end_times[i] = len(population_alleles[population_alleles != 0])\n",
    "            \n",
    "            # Increment path density for the new allele counts over time\n",
    "            for j in range(1, len(population_alleles)):\n",
    "                path_density[population_alleles[j]][j - 1] += 1\n",
    "                \n",
    "            # Check if allele fixes\n",
    "            if population_alleles[-1] == self.N:\n",
    "                # Add time when allele fixes\n",
    "                all_fixation_times = np.append(all_fixation_times,\n",
    "                                               np.where(population_alleles == self.N)[0][0])\n",
    "            else:\n",
    "                # Add time taken for allele to be lost\n",
    "                all_loss_times = np.append(all_loss_times, end_times[i])\n",
    "                \n",
    "        # Number of simulations in which the allele fixes and is lost\n",
    "        n_fixed = len(all_fixation_times)\n",
    "        n_lost = len(all_loss_times)\n",
    "        \n",
    "        # Calculate average fixation and loss time\n",
    "        if n_fixed > 0:\n",
    "            mean_fixation_time = sum(all_fixation_times) / len(all_fixation_times)\n",
    "        if n_lost > 0:\n",
    "            mean_loss_time = sum(all_loss_times) / len(all_loss_times)\n",
    "            \n",
    "        # Number of copies of the allele over all generations\n",
    "        all_allele_counts = np.array([sum(row) for row in path_density])\n",
    "        \n",
    "        return {\"max_allele_counts\": max_allele_counts,\n",
    "                \"end_times\": end_times,\n",
    "                \"path_density\": path_density,\n",
    "                \"n_fixed\": n_fixed,\n",
    "                \"mean_fixation_time\": mean_fixation_time,\n",
    "                \"mean_loss_time\": mean_loss_time,\n",
    "                \"all_fixation_times\": all_fixation_times,\n",
    "                \"all_loss_times\": all_loss_times,\n",
    "                \"all_allele_counts\": all_allele_counts}"
   ]
  },
  {
   "cell_type": "code",
   "execution_count": 645,
   "id": "84313e28",
   "metadata": {},
   "outputs": [
    {
     "data": {
      "text/plain": [
       "array([147., 116., 161.])"
      ]
     },
     "execution_count": 645,
     "metadata": {},
     "output_type": "execute_result"
    }
   ],
   "source": [
    "simulation_results[\"all_fixation_times\"]"
   ]
  },
  {
   "cell_type": "code",
   "execution_count": 644,
   "id": "52b289e7",
   "metadata": {},
   "outputs": [
    {
     "data": {
      "image/png": "[encoded data removed]",
      "text/plain": [
       "<Figure size 720x360 with 1 Axes>"
      ]
     },
     "metadata": {
      "needs_background": "light"
     },
     "output_type": "display_data"
    }
   ],
   "source": [
    "wf_simulator = WrightFisher(N = 100)\n",
    "simulation_results = wf_simulator.repeatSimulate(allele_count = 1, n_times = 100)\n",
    "\n",
    "wf_simulator.plotMaxAllele(simulation_results[\"max_allele_counts\"])\n",
    "\n",
    "#simulation_results"
   ]
  },
  {
   "cell_type": "code",
   "execution_count": 590,
   "id": "a5617670",
   "metadata": {},
   "outputs": [
    {
     "data": {
      "image/png": "[encoded data removed]",
      "text/plain": [
       "<Figure size 720x720 with 2 Axes>"
      ]
     },
     "metadata": {
      "needs_background": "light"
     },
     "output_type": "display_data"
    }
   ],
   "source": [
    "wf_simulator.plotPathDensity(simulation_results[\"path_density\"], \n",
    "                             cmap = \"Spectral\",\n",
    "                             title = \"Path Density for 1000 Simulations\")"
   ]
  },
  {
   "cell_type": "code",
   "execution_count": null,
   "id": "6022b345",
   "metadata": {},
   "outputs": [],
   "source": []
  }
 ],
 "metadata": {
  "kernelspec": {
   "display_name": "Python 3 (ipykernel)",
   "language": "python",
   "name": "python3"
  },
  "language_info": {
   "codemirror_mode": {
    "name": "ipython",
    "version": 3
   },
   "file_extension": ".py",
   "mimetype": "text/x-python",
   "name": "python",
   "nbconvert_exporter": "python",
   "pygments_lexer": "ipython3",
   "version": "3.9.7"
  }
 },
 "nbformat": 4,
 "nbformat_minor": 5
}
